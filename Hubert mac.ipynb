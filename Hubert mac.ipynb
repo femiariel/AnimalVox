{
 "cells": [
  {
   "cell_type": "code",
   "execution_count": 1,
   "metadata": {},
   "outputs": [
    {
     "name": "stderr",
     "output_type": "stream",
     "text": [
      "/Users/ariel/anaconda3/envs/faiss/lib/python3.9/site-packages/tqdm/auto.py:21: TqdmWarning: IProgress not found. Please update jupyter and ipywidgets. See https://ipywidgets.readthedocs.io/en/stable/user_install.html\n",
      "  from .autonotebook import tqdm as notebook_tqdm\n"
     ]
    }
   ],
   "source": [
    "from transformers import AutoTokenizer, AutoFeatureExtractor, AutoModelForCTC\n",
    "import torch\n",
    "import os\n",
    "import numpy as np\n",
    "import faiss\n",
    "import pandas as pd\n",
    "import matplotlib.pyplot as plt\n",
    "import time\n",
    "import torchaudio\n",
    "import gc\n",
    "import math\n",
    "bundle= torchaudio.pipelines.HUBERT_BASE\n",
    "model= bundle.get_model()\n",
    "directory= \"/Users/ariel/Desktop/Hubert-PING/cats_dogs/\"\n"
   ]
  },
  {
   "cell_type": "code",
   "execution_count": 2,
   "metadata": {},
   "outputs": [],
   "source": [
    "import numpy as np\n",
    "\n",
    "\n",
    "# Définition de la fonction exponentielle négative\n",
    "def exp_negative(x):\n",
    "    return math.exp(-x)\n",
    "\n",
    "#j'ai du ajouter un traitement pour les vecteurs 1D car le vecteur de requete contient une seul vecteur et ne peut etre en 2D car comme tu le sais notre processus de traitement des audios nous donne une longue liste contenant tous les caractéritiques dont on a besoin, voila pourquoi le vecteur de requeue est en 1 dimension j'ai donc améliorer la logique de mon code \n",
    "def normalization(embeddings):\n",
    "    # Convertir en un tableau NumPy si ce n'est pas déjà le cas\n",
    "    #embeddings = np.array(embeddings)\n",
    "\n",
    "    # Vérifie si embeddings est un vecteur seul (1D) ou une matrice (2D)\n",
    "    if embeddings.ndim == 1:\n",
    "        # Normaliser un vecteur seul\n",
    "        norm = np.linalg.norm(embeddings)\n",
    "        if norm == 0:\n",
    "            return embeddings\n",
    "        return embeddings / norm\n",
    "    else:\n",
    "        # Normaliser chaque ligne d'une matrice\n",
    "        norms = np.linalg.norm(embeddings, axis=1, keepdims=True)\n",
    "        return embeddings / norms\n",
    "    \n",
    "def get_audio_embedding(audio_path):\n",
    "    waveform1, sample_rate1=torchaudio.load(audio_path)\n",
    "    waveform1=torchaudio.functional.resample(waveform1, sample_rate1, bundle.sample_rate)\n",
    "    with torch.inference_mode():\n",
    "            emission1, _ = model(waveform1)\n",
    "\n",
    "    # Aplatir les deux premières dimensions et garder la troisième\n",
    "    flattened_features1 = emission1.view(-1, emission1.size(2))\n",
    "    mean_features1 = flattened_features1.mean(dim=0)\n",
    "    mean1_array=mean_features1.cpu().numpy().astype(np.float32) \n",
    "    mean1_normal=normalization(mean1_array)\n",
    "    mean1_normal_2d = mean1_normal[np.newaxis, :]\n",
    "    return mean1_normal_2d\n",
    "\n",
    "\n",
    "def searchinIndex(index, normal_embedding):\n",
    "    D,I= index.search(normal_embedding, index.ntotal)\n",
    "    r=pd.DataFrame({'distance':D[0],'index':I[0]})\n",
    "    return r"
   ]
  },
  {
   "cell_type": "code",
   "execution_count": 3,
   "metadata": {},
   "outputs": [],
   "source": [
    "index = faiss.read_index(\"/Users/ariel/Downloads/animals.index\")"
   ]
  },
  {
   "cell_type": "code",
   "execution_count": 4,
   "metadata": {},
   "outputs": [],
   "source": [
    "chemin_noms_animaux = '/Users/ariel/Downloads/noms_animaux.txt'\n",
    "\n",
    "# Lire le contenu du fichier et le convertir en liste\n",
    "with open(chemin_noms_animaux, 'r') as fichier:\n",
    "    # Utiliser une compréhension de liste pour traiter chaque ligne\n",
    "    names = [line.strip().strip(\"'\").strip(\",\").strip() for line in fichier.readlines()]\n",
    "\n"
   ]
  },
  {
   "cell_type": "code",
   "execution_count": 5,
   "metadata": {},
   "outputs": [],
   "source": [
    "query_audio=get_audio_embedding(\"/Users/ariel/Desktop/Dev/Hubert-PING/tests/birds_216.wav\")"
   ]
  },
  {
   "cell_type": "code",
   "execution_count": 6,
   "metadata": {},
   "outputs": [
    {
     "data": {
      "text/plain": [
       "4433"
      ]
     },
     "execution_count": 6,
     "metadata": {},
     "output_type": "execute_result"
    }
   ],
   "source": [
    "index.ntotal"
   ]
  },
  {
   "cell_type": "code",
   "execution_count": 7,
   "metadata": {},
   "outputs": [
    {
     "data": {
      "text/plain": [
       "4433"
      ]
     },
     "execution_count": 7,
     "metadata": {},
     "output_type": "execute_result"
    }
   ],
   "source": [
    "len(names)"
   ]
  },
  {
   "cell_type": "code",
   "execution_count": 8,
   "metadata": {},
   "outputs": [],
   "source": [
    "\n",
    "i=searchinIndex(index,query_audio)"
   ]
  },
  {
   "cell_type": "code",
   "execution_count": 9,
   "metadata": {},
   "outputs": [
    {
     "name": "stdout",
     "output_type": "stream",
     "text": [
      "      distance  index\n",
      "0     0.000000   4432\n",
      "1     0.312191   2387\n",
      "2     0.323126   4390\n",
      "3     0.330927   3713\n",
      "4     0.332973   2883\n",
      "...        ...    ...\n",
      "4428  1.484970   2934\n",
      "4429  1.492944   3514\n",
      "4430  1.493668   1376\n",
      "4431  1.553486   3442\n",
      "4432  1.568810   1344\n",
      "\n",
      "[4433 rows x 2 columns]\n"
     ]
    }
   ],
   "source": [
    "print(i)"
   ]
  },
  {
   "cell_type": "code",
   "execution_count": 10,
   "metadata": {},
   "outputs": [],
   "source": [
    "i['percentage'] = i['distance'].apply(exp_negative)*100"
   ]
  },
  {
   "cell_type": "code",
   "execution_count": 11,
   "metadata": {},
   "outputs": [
    {
     "data": {
      "text/html": [
       "<div>\n",
       "<style scoped>\n",
       "    .dataframe tbody tr th:only-of-type {\n",
       "        vertical-align: middle;\n",
       "    }\n",
       "\n",
       "    .dataframe tbody tr th {\n",
       "        vertical-align: top;\n",
       "    }\n",
       "\n",
       "    .dataframe thead th {\n",
       "        text-align: right;\n",
       "    }\n",
       "</style>\n",
       "<table border=\"1\" class=\"dataframe\">\n",
       "  <thead>\n",
       "    <tr style=\"text-align: right;\">\n",
       "      <th></th>\n",
       "      <th>distance</th>\n",
       "      <th>index</th>\n",
       "      <th>percentage</th>\n",
       "    </tr>\n",
       "  </thead>\n",
       "  <tbody>\n",
       "    <tr>\n",
       "      <th>0</th>\n",
       "      <td>0.000000</td>\n",
       "      <td>4432</td>\n",
       "      <td>100.000000</td>\n",
       "    </tr>\n",
       "    <tr>\n",
       "      <th>1</th>\n",
       "      <td>0.312191</td>\n",
       "      <td>2387</td>\n",
       "      <td>73.184186</td>\n",
       "    </tr>\n",
       "    <tr>\n",
       "      <th>2</th>\n",
       "      <td>0.323126</td>\n",
       "      <td>4390</td>\n",
       "      <td>72.388243</td>\n",
       "    </tr>\n",
       "    <tr>\n",
       "      <th>3</th>\n",
       "      <td>0.330927</td>\n",
       "      <td>3713</td>\n",
       "      <td>71.825785</td>\n",
       "    </tr>\n",
       "    <tr>\n",
       "      <th>4</th>\n",
       "      <td>0.332973</td>\n",
       "      <td>2883</td>\n",
       "      <td>71.678933</td>\n",
       "    </tr>\n",
       "    <tr>\n",
       "      <th>...</th>\n",
       "      <td>...</td>\n",
       "      <td>...</td>\n",
       "      <td>...</td>\n",
       "    </tr>\n",
       "    <tr>\n",
       "      <th>4428</th>\n",
       "      <td>1.484970</td>\n",
       "      <td>2934</td>\n",
       "      <td>22.650911</td>\n",
       "    </tr>\n",
       "    <tr>\n",
       "      <th>4429</th>\n",
       "      <td>1.492944</td>\n",
       "      <td>3514</td>\n",
       "      <td>22.471024</td>\n",
       "    </tr>\n",
       "    <tr>\n",
       "      <th>4430</th>\n",
       "      <td>1.493668</td>\n",
       "      <td>1376</td>\n",
       "      <td>22.454754</td>\n",
       "    </tr>\n",
       "    <tr>\n",
       "      <th>4431</th>\n",
       "      <td>1.553486</td>\n",
       "      <td>3442</td>\n",
       "      <td>21.150927</td>\n",
       "    </tr>\n",
       "    <tr>\n",
       "      <th>4432</th>\n",
       "      <td>1.568810</td>\n",
       "      <td>1344</td>\n",
       "      <td>20.829283</td>\n",
       "    </tr>\n",
       "  </tbody>\n",
       "</table>\n",
       "<p>4433 rows × 3 columns</p>\n",
       "</div>"
      ],
      "text/plain": [
       "      distance  index  percentage\n",
       "0     0.000000   4432  100.000000\n",
       "1     0.312191   2387   73.184186\n",
       "2     0.323126   4390   72.388243\n",
       "3     0.330927   3713   71.825785\n",
       "4     0.332973   2883   71.678933\n",
       "...        ...    ...         ...\n",
       "4428  1.484970   2934   22.650911\n",
       "4429  1.492944   3514   22.471024\n",
       "4430  1.493668   1376   22.454754\n",
       "4431  1.553486   3442   21.150927\n",
       "4432  1.568810   1344   20.829283\n",
       "\n",
       "[4433 rows x 3 columns]"
      ]
     },
     "execution_count": 11,
     "metadata": {},
     "output_type": "execute_result"
    }
   ],
   "source": [
    "i"
   ]
  },
  {
   "cell_type": "code",
   "execution_count": 12,
   "metadata": {},
   "outputs": [],
   "source": [
    "def get_name_from_index(index):\n",
    "    return names[index]\n",
    "\n",
    "i['names'] = i['index'].apply(get_name_from_index)"
   ]
  },
  {
   "cell_type": "code",
   "execution_count": 13,
   "metadata": {},
   "outputs": [
    {
     "data": {
      "text/html": [
       "<div>\n",
       "<style scoped>\n",
       "    .dataframe tbody tr th:only-of-type {\n",
       "        vertical-align: middle;\n",
       "    }\n",
       "\n",
       "    .dataframe tbody tr th {\n",
       "        vertical-align: top;\n",
       "    }\n",
       "\n",
       "    .dataframe thead th {\n",
       "        text-align: right;\n",
       "    }\n",
       "</style>\n",
       "<table border=\"1\" class=\"dataframe\">\n",
       "  <thead>\n",
       "    <tr style=\"text-align: right;\">\n",
       "      <th></th>\n",
       "      <th>distance</th>\n",
       "      <th>index</th>\n",
       "      <th>percentage</th>\n",
       "      <th>names</th>\n",
       "    </tr>\n",
       "  </thead>\n",
       "  <tbody>\n",
       "    <tr>\n",
       "      <th>0</th>\n",
       "      <td>0.000000</td>\n",
       "      <td>4432</td>\n",
       "      <td>100.000000</td>\n",
       "      <td>birds_216.wav'</td>\n",
       "    </tr>\n",
       "    <tr>\n",
       "      <th>1</th>\n",
       "      <td>0.312191</td>\n",
       "      <td>2387</td>\n",
       "      <td>73.184186</td>\n",
       "      <td>cat_70_stretching.wav''''</td>\n",
       "    </tr>\n",
       "    <tr>\n",
       "      <th>2</th>\n",
       "      <td>0.323126</td>\n",
       "      <td>4390</td>\n",
       "      <td>72.388243</td>\n",
       "      <td>cat_158.wav''''</td>\n",
       "    </tr>\n",
       "    <tr>\n",
       "      <th>3</th>\n",
       "      <td>0.330927</td>\n",
       "      <td>3713</td>\n",
       "      <td>71.825785</td>\n",
       "      <td>birds_428.wav''''</td>\n",
       "    </tr>\n",
       "    <tr>\n",
       "      <th>4</th>\n",
       "      <td>0.332973</td>\n",
       "      <td>2883</td>\n",
       "      <td>71.678933</td>\n",
       "      <td>cat_601_stretching.wav''''</td>\n",
       "    </tr>\n",
       "    <tr>\n",
       "      <th>...</th>\n",
       "      <td>...</td>\n",
       "      <td>...</td>\n",
       "      <td>...</td>\n",
       "      <td>...</td>\n",
       "    </tr>\n",
       "    <tr>\n",
       "      <th>4428</th>\n",
       "      <td>1.484970</td>\n",
       "      <td>2934</td>\n",
       "      <td>22.650911</td>\n",
       "      <td>dogs_591_stretching.wav''''</td>\n",
       "    </tr>\n",
       "    <tr>\n",
       "      <th>4429</th>\n",
       "      <td>1.492944</td>\n",
       "      <td>3514</td>\n",
       "      <td>22.471024</td>\n",
       "      <td>dogs_591.wav''''</td>\n",
       "    </tr>\n",
       "    <tr>\n",
       "      <th>4430</th>\n",
       "      <td>1.493668</td>\n",
       "      <td>1376</td>\n",
       "      <td>22.454754</td>\n",
       "      <td>dogs_333_stretching.wav''''</td>\n",
       "    </tr>\n",
       "    <tr>\n",
       "      <th>4431</th>\n",
       "      <td>1.553486</td>\n",
       "      <td>3442</td>\n",
       "      <td>21.150927</td>\n",
       "      <td>dogs_521.wav''''</td>\n",
       "    </tr>\n",
       "    <tr>\n",
       "      <th>4432</th>\n",
       "      <td>1.568810</td>\n",
       "      <td>1344</td>\n",
       "      <td>20.829283</td>\n",
       "      <td>dogs_521_stretching.wav''''</td>\n",
       "    </tr>\n",
       "  </tbody>\n",
       "</table>\n",
       "<p>4433 rows × 4 columns</p>\n",
       "</div>"
      ],
      "text/plain": [
       "      distance  index  percentage                        names\n",
       "0     0.000000   4432  100.000000               birds_216.wav'\n",
       "1     0.312191   2387   73.184186    cat_70_stretching.wav''''\n",
       "2     0.323126   4390   72.388243              cat_158.wav''''\n",
       "3     0.330927   3713   71.825785            birds_428.wav''''\n",
       "4     0.332973   2883   71.678933   cat_601_stretching.wav''''\n",
       "...        ...    ...         ...                          ...\n",
       "4428  1.484970   2934   22.650911  dogs_591_stretching.wav''''\n",
       "4429  1.492944   3514   22.471024             dogs_591.wav''''\n",
       "4430  1.493668   1376   22.454754  dogs_333_stretching.wav''''\n",
       "4431  1.553486   3442   21.150927             dogs_521.wav''''\n",
       "4432  1.568810   1344   20.829283  dogs_521_stretching.wav''''\n",
       "\n",
       "[4433 rows x 4 columns]"
      ]
     },
     "execution_count": 13,
     "metadata": {},
     "output_type": "execute_result"
    }
   ],
   "source": [
    "i"
   ]
  },
  {
   "cell_type": "code",
   "execution_count": 14,
   "metadata": {},
   "outputs": [],
   "source": [
    "def name_normalisation(name):\n",
    "    if 'dog' in name:\n",
    "        return \"Chien\"\n",
    "    elif 'cat' in name:\n",
    "        return \"Chat\"\n",
    "    elif 'bird' in name:\n",
    "        return \"Oiseau\"\n",
    "    else:\n",
    "        return \"Animal non reconnu\"\n",
    "\n"
   ]
  },
  {
   "cell_type": "code",
   "execution_count": 15,
   "metadata": {},
   "outputs": [],
   "source": [
    "i['names_normalized'] = i['names'].apply(name_normalisation)"
   ]
  },
  {
   "cell_type": "code",
   "execution_count": 16,
   "metadata": {},
   "outputs": [
    {
     "data": {
      "text/html": [
       "<div>\n",
       "<style scoped>\n",
       "    .dataframe tbody tr th:only-of-type {\n",
       "        vertical-align: middle;\n",
       "    }\n",
       "\n",
       "    .dataframe tbody tr th {\n",
       "        vertical-align: top;\n",
       "    }\n",
       "\n",
       "    .dataframe thead th {\n",
       "        text-align: right;\n",
       "    }\n",
       "</style>\n",
       "<table border=\"1\" class=\"dataframe\">\n",
       "  <thead>\n",
       "    <tr style=\"text-align: right;\">\n",
       "      <th></th>\n",
       "      <th>distance</th>\n",
       "      <th>index</th>\n",
       "      <th>percentage</th>\n",
       "      <th>names</th>\n",
       "      <th>names_normalized</th>\n",
       "    </tr>\n",
       "  </thead>\n",
       "  <tbody>\n",
       "    <tr>\n",
       "      <th>0</th>\n",
       "      <td>0.000000</td>\n",
       "      <td>4432</td>\n",
       "      <td>100.000000</td>\n",
       "      <td>birds_216.wav'</td>\n",
       "      <td>Oiseau</td>\n",
       "    </tr>\n",
       "    <tr>\n",
       "      <th>1</th>\n",
       "      <td>0.312191</td>\n",
       "      <td>2387</td>\n",
       "      <td>73.184186</td>\n",
       "      <td>cat_70_stretching.wav''''</td>\n",
       "      <td>Chat</td>\n",
       "    </tr>\n",
       "    <tr>\n",
       "      <th>2</th>\n",
       "      <td>0.323126</td>\n",
       "      <td>4390</td>\n",
       "      <td>72.388243</td>\n",
       "      <td>cat_158.wav''''</td>\n",
       "      <td>Chat</td>\n",
       "    </tr>\n",
       "    <tr>\n",
       "      <th>3</th>\n",
       "      <td>0.330927</td>\n",
       "      <td>3713</td>\n",
       "      <td>71.825785</td>\n",
       "      <td>birds_428.wav''''</td>\n",
       "      <td>Oiseau</td>\n",
       "    </tr>\n",
       "    <tr>\n",
       "      <th>4</th>\n",
       "      <td>0.332973</td>\n",
       "      <td>2883</td>\n",
       "      <td>71.678933</td>\n",
       "      <td>cat_601_stretching.wav''''</td>\n",
       "      <td>Chat</td>\n",
       "    </tr>\n",
       "    <tr>\n",
       "      <th>...</th>\n",
       "      <td>...</td>\n",
       "      <td>...</td>\n",
       "      <td>...</td>\n",
       "      <td>...</td>\n",
       "      <td>...</td>\n",
       "    </tr>\n",
       "    <tr>\n",
       "      <th>4428</th>\n",
       "      <td>1.484970</td>\n",
       "      <td>2934</td>\n",
       "      <td>22.650911</td>\n",
       "      <td>dogs_591_stretching.wav''''</td>\n",
       "      <td>Chien</td>\n",
       "    </tr>\n",
       "    <tr>\n",
       "      <th>4429</th>\n",
       "      <td>1.492944</td>\n",
       "      <td>3514</td>\n",
       "      <td>22.471024</td>\n",
       "      <td>dogs_591.wav''''</td>\n",
       "      <td>Chien</td>\n",
       "    </tr>\n",
       "    <tr>\n",
       "      <th>4430</th>\n",
       "      <td>1.493668</td>\n",
       "      <td>1376</td>\n",
       "      <td>22.454754</td>\n",
       "      <td>dogs_333_stretching.wav''''</td>\n",
       "      <td>Chien</td>\n",
       "    </tr>\n",
       "    <tr>\n",
       "      <th>4431</th>\n",
       "      <td>1.553486</td>\n",
       "      <td>3442</td>\n",
       "      <td>21.150927</td>\n",
       "      <td>dogs_521.wav''''</td>\n",
       "      <td>Chien</td>\n",
       "    </tr>\n",
       "    <tr>\n",
       "      <th>4432</th>\n",
       "      <td>1.568810</td>\n",
       "      <td>1344</td>\n",
       "      <td>20.829283</td>\n",
       "      <td>dogs_521_stretching.wav''''</td>\n",
       "      <td>Chien</td>\n",
       "    </tr>\n",
       "  </tbody>\n",
       "</table>\n",
       "<p>4433 rows × 5 columns</p>\n",
       "</div>"
      ],
      "text/plain": [
       "      distance  index  percentage                        names  \\\n",
       "0     0.000000   4432  100.000000               birds_216.wav'   \n",
       "1     0.312191   2387   73.184186    cat_70_stretching.wav''''   \n",
       "2     0.323126   4390   72.388243              cat_158.wav''''   \n",
       "3     0.330927   3713   71.825785            birds_428.wav''''   \n",
       "4     0.332973   2883   71.678933   cat_601_stretching.wav''''   \n",
       "...        ...    ...         ...                          ...   \n",
       "4428  1.484970   2934   22.650911  dogs_591_stretching.wav''''   \n",
       "4429  1.492944   3514   22.471024             dogs_591.wav''''   \n",
       "4430  1.493668   1376   22.454754  dogs_333_stretching.wav''''   \n",
       "4431  1.553486   3442   21.150927             dogs_521.wav''''   \n",
       "4432  1.568810   1344   20.829283  dogs_521_stretching.wav''''   \n",
       "\n",
       "     names_normalized  \n",
       "0              Oiseau  \n",
       "1                Chat  \n",
       "2                Chat  \n",
       "3              Oiseau  \n",
       "4                Chat  \n",
       "...               ...  \n",
       "4428            Chien  \n",
       "4429            Chien  \n",
       "4430            Chien  \n",
       "4431            Chien  \n",
       "4432            Chien  \n",
       "\n",
       "[4433 rows x 5 columns]"
      ]
     },
     "execution_count": 16,
     "metadata": {},
     "output_type": "execute_result"
    }
   ],
   "source": [
    "i"
   ]
  },
  {
   "cell_type": "code",
   "execution_count": 17,
   "metadata": {},
   "outputs": [
    {
     "name": "stdout",
     "output_type": "stream",
     "text": [
      "{'Oiseau': 0.18692323034689698, 'Chat': 0.7537555200075591, 'Chien': 0.059321249645543986}\n"
     ]
    }
   ],
   "source": [
    "def bayes_theorem(df, n_top_vectors=50):\n",
    "    # Limite le DataFrame aux n_top_vectors premiers vecteurs\n",
    "    df_limited = df.head(n_top_vectors)\n",
    "    # Récupère les catégories uniques et initialise le dictionnaire des probabilités a posteriori\n",
    "    categories = df_limited['names_normalized'].unique()\n",
    "    probas_a_posteriori = {categorie: 0 for categorie in categories}\n",
    "    # Calcul des probabilités a priori uniformes\n",
    "    probas_a_priori = 1/3\n",
    "    # Somme des similarités pour chaque catégorie limitée aux 50 premiers vecteurs\n",
    "    for categorie in categories:\n",
    "        somme_similarites = df_limited[df_limited['names_normalized'] == categorie]['percentage'].sum()\n",
    "        probas_a_posteriori[categorie] = somme_similarites * probas_a_priori\n",
    "    # Normalisation des probabilités a posteriori\n",
    "    total_proba = sum(probas_a_posteriori.values())\n",
    "    probas_a_posteriori_normalisees = {categorie: (proba / total_proba) for categorie, proba in probas_a_posteriori.items()}\n",
    "    return probas_a_posteriori_normalisees\n",
    " \n",
    "# Supposons que 'df' est votre DataFrame\n",
    "# df = pd.read_csv('chemin_vers_votre_fichier.csv')  # Exemple de chargement de données\n",
    " \n",
    "# Utilisez la fonction sur les 50 premiers vecteurs de votre DataFrame\n",
    "resultat = bayes_theorem(i, 50)\n",
    "print(resultat)"
   ]
  },
  {
   "cell_type": "code",
   "execution_count": 18,
   "metadata": {},
   "outputs": [
    {
     "data": {
      "text/plain": [
       "4433"
      ]
     },
     "execution_count": 18,
     "metadata": {},
     "output_type": "execute_result"
    }
   ],
   "source": [
    "len(names)"
   ]
  },
  {
   "cell_type": "code",
   "execution_count": 19,
   "metadata": {},
   "outputs": [
    {
     "data": {
      "text/plain": [
       "4433"
      ]
     },
     "execution_count": 19,
     "metadata": {},
     "output_type": "execute_result"
    }
   ],
   "source": [
    "index.ntotal"
   ]
  },
  {
   "cell_type": "code",
   "execution_count": 20,
   "metadata": {},
   "outputs": [
    {
     "data": {
      "text/plain": [
       "4433"
      ]
     },
     "execution_count": 20,
     "metadata": {},
     "output_type": "execute_result"
    }
   ],
   "source": [
    "len(names)"
   ]
  },
  {
   "cell_type": "code",
   "execution_count": 21,
   "metadata": {},
   "outputs": [
    {
     "data": {
      "text/plain": [
       "4433"
      ]
     },
     "execution_count": 21,
     "metadata": {},
     "output_type": "execute_result"
    }
   ],
   "source": [
    "index.ntotal"
   ]
  },
  {
   "cell_type": "code",
   "execution_count": 22,
   "metadata": {},
   "outputs": [],
   "source": [
    "import torchaudio"
   ]
  },
  {
   "cell_type": "code",
   "execution_count": null,
   "metadata": {},
   "outputs": [],
   "source": []
  }
 ],
 "metadata": {
  "kernelspec": {
   "display_name": "base",
   "language": "python",
   "name": "python3"
  },
  "language_info": {
   "codemirror_mode": {
    "name": "ipython",
    "version": 3
   },
   "file_extension": ".py",
   "mimetype": "text/x-python",
   "name": "python",
   "nbconvert_exporter": "python",
   "pygments_lexer": "ipython3",
   "version": "3.9.18"
  }
 },
 "nbformat": 4,
 "nbformat_minor": 2
}
